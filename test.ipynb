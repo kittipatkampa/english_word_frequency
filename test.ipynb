{
 "cells": [
  {
   "cell_type": "code",
   "execution_count": 1,
   "id": "5a665961-5a98-4393-a5e3-af78d96bdd5f",
   "metadata": {},
   "outputs": [],
   "source": [
    "import pandas as pd"
   ]
  },
  {
   "cell_type": "code",
   "execution_count": 2,
   "id": "26810360-15c9-4667-be21-4552ac41703b",
   "metadata": {},
   "outputs": [],
   "source": [
    "df = pd.read_csv('unigram_freq.csv')"
   ]
  },
  {
   "cell_type": "code",
   "execution_count": 28,
   "id": "2e7145e8-afa7-447b-9eb3-7782d279a024",
   "metadata": {},
   "outputs": [
    {
     "data": {
      "text/html": [
       "<div>\n",
       "<style scoped>\n",
       "    .dataframe tbody tr th:only-of-type {\n",
       "        vertical-align: middle;\n",
       "    }\n",
       "\n",
       "    .dataframe tbody tr th {\n",
       "        vertical-align: top;\n",
       "    }\n",
       "\n",
       "    .dataframe thead th {\n",
       "        text-align: right;\n",
       "    }\n",
       "</style>\n",
       "<table border=\"1\" class=\"dataframe\">\n",
       "  <thead>\n",
       "    <tr style=\"text-align: right;\">\n",
       "      <th></th>\n",
       "      <th>word</th>\n",
       "      <th>count</th>\n",
       "    </tr>\n",
       "  </thead>\n",
       "  <tbody>\n",
       "    <tr>\n",
       "      <th>0</th>\n",
       "      <td>the</td>\n",
       "      <td>23135851162</td>\n",
       "    </tr>\n",
       "    <tr>\n",
       "      <th>1</th>\n",
       "      <td>of</td>\n",
       "      <td>13151942776</td>\n",
       "    </tr>\n",
       "    <tr>\n",
       "      <th>2</th>\n",
       "      <td>and</td>\n",
       "      <td>12997637966</td>\n",
       "    </tr>\n",
       "    <tr>\n",
       "      <th>3</th>\n",
       "      <td>to</td>\n",
       "      <td>12136980858</td>\n",
       "    </tr>\n",
       "    <tr>\n",
       "      <th>4</th>\n",
       "      <td>a</td>\n",
       "      <td>9081174698</td>\n",
       "    </tr>\n",
       "    <tr>\n",
       "      <th>5</th>\n",
       "      <td>in</td>\n",
       "      <td>8469404971</td>\n",
       "    </tr>\n",
       "    <tr>\n",
       "      <th>6</th>\n",
       "      <td>for</td>\n",
       "      <td>5933321709</td>\n",
       "    </tr>\n",
       "    <tr>\n",
       "      <th>7</th>\n",
       "      <td>is</td>\n",
       "      <td>4705743816</td>\n",
       "    </tr>\n",
       "    <tr>\n",
       "      <th>8</th>\n",
       "      <td>on</td>\n",
       "      <td>3750423199</td>\n",
       "    </tr>\n",
       "    <tr>\n",
       "      <th>9</th>\n",
       "      <td>that</td>\n",
       "      <td>3400031103</td>\n",
       "    </tr>\n",
       "  </tbody>\n",
       "</table>\n",
       "</div>"
      ],
      "text/plain": [
       "   word        count\n",
       "0   the  23135851162\n",
       "1    of  13151942776\n",
       "2   and  12997637966\n",
       "3    to  12136980858\n",
       "4     a   9081174698\n",
       "5    in   8469404971\n",
       "6   for   5933321709\n",
       "7    is   4705743816\n",
       "8    on   3750423199\n",
       "9  that   3400031103"
      ]
     },
     "execution_count": 28,
     "metadata": {},
     "output_type": "execute_result"
    }
   ],
   "source": [
    "df[:10]"
   ]
  },
  {
   "cell_type": "code",
   "execution_count": 40,
   "id": "538ae058-40e2-4de6-b752-b85dc9c3ccef",
   "metadata": {},
   "outputs": [
    {
     "data": {
      "text/plain": [
       "46839855"
      ]
     },
     "execution_count": 40,
     "metadata": {},
     "output_type": "execute_result"
    }
   ],
   "source": [
    "df[ df[\"word\"] == \"cat\" ].iloc[0]['count']"
   ]
  },
  {
   "cell_type": "code",
   "execution_count": 41,
   "id": "10e6909c-b1e6-47b8-b701-cbd79192e08c",
   "metadata": {},
   "outputs": [],
   "source": [
    "def who_wins(w1, w2):\n",
    "    count_w1 = df[ df['word']==w1 ][\"count\"].values[0]\n",
    "    count_w2 = df[ df['word']==w2 ][\"count\"].values[0]\n",
    "\n",
    "    if count_w1 < count_w2:\n",
    "        w1, w2 = w2, w1\n",
    "        count_w1, count_w2 = count_w2, count_w1\n",
    "\n",
    "    print(f'{w1} ({count_w1}) wins over {w2} ({count_w2})')"
   ]
  },
  {
   "cell_type": "code",
   "execution_count": 42,
   "id": "b1f76222-ead4-4a1f-b0f8-00f8a7c26076",
   "metadata": {},
   "outputs": [
    {
     "name": "stdout",
     "output_type": "stream",
     "text": [
      "mom (29736214) wins over dad (15136055)\n"
     ]
    }
   ],
   "source": [
    "who_wins(\"dad\", \"mom\")"
   ]
  },
  {
   "cell_type": "code",
   "execution_count": 43,
   "id": "ac89fa3f-999d-48ce-9e13-2d712e3bb0b8",
   "metadata": {},
   "outputs": [
    {
     "name": "stdout",
     "output_type": "stream",
     "text": [
      "cat (46839855) wins over mom (29736214)\n"
     ]
    }
   ],
   "source": [
    "who_wins(\"cat\", \"mom\")"
   ]
  },
  {
   "cell_type": "code",
   "execution_count": null,
   "id": "1f93d870-9f44-492d-a5ea-adebc340ec84",
   "metadata": {},
   "outputs": [],
   "source": []
  }
 ],
 "metadata": {
  "kernelspec": {
   "display_name": "Python 3 (ipykernel)",
   "language": "python",
   "name": "python3"
  },
  "language_info": {
   "codemirror_mode": {
    "name": "ipython",
    "version": 3
   },
   "file_extension": ".py",
   "mimetype": "text/x-python",
   "name": "python",
   "nbconvert_exporter": "python",
   "pygments_lexer": "ipython3",
   "version": "3.10.8"
  }
 },
 "nbformat": 4,
 "nbformat_minor": 5
}
