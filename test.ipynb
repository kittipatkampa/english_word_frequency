{
 "cells": [
  {
   "cell_type": "code",
   "execution_count": 1,
   "id": "5a665961-5a98-4393-a5e3-af78d96bdd5f",
   "metadata": {},
   "outputs": [],
   "source": [
    "import pandas as pd"
   ]
  },
  {
   "cell_type": "code",
   "execution_count": 2,
   "id": "26810360-15c9-4667-be21-4552ac41703b",
   "metadata": {},
   "outputs": [],
   "source": [
    "df = pd.read_csv('unigram_freq.csv')"
   ]
  },
  {
   "cell_type": "markdown",
   "id": "c1ceb4f2-eb90-44b1-8f21-55fc8c519a6e",
   "metadata": {},
   "source": [
    "Let's expore top-10 of the list"
   ]
  },
  {
   "cell_type": "code",
   "execution_count": 28,
   "id": "2e7145e8-afa7-447b-9eb3-7782d279a024",
   "metadata": {},
   "outputs": [
    {
     "data": {
      "text/html": [
       "<div>\n",
       "<style scoped>\n",
       "    .dataframe tbody tr th:only-of-type {\n",
       "        vertical-align: middle;\n",
       "    }\n",
       "\n",
       "    .dataframe tbody tr th {\n",
       "        vertical-align: top;\n",
       "    }\n",
       "\n",
       "    .dataframe thead th {\n",
       "        text-align: right;\n",
       "    }\n",
       "</style>\n",
       "<table border=\"1\" class=\"dataframe\">\n",
       "  <thead>\n",
       "    <tr style=\"text-align: right;\">\n",
       "      <th></th>\n",
       "      <th>word</th>\n",
       "      <th>count</th>\n",
       "    </tr>\n",
       "  </thead>\n",
       "  <tbody>\n",
       "    <tr>\n",
       "      <th>0</th>\n",
       "      <td>the</td>\n",
       "      <td>23135851162</td>\n",
       "    </tr>\n",
       "    <tr>\n",
       "      <th>1</th>\n",
       "      <td>of</td>\n",
       "      <td>13151942776</td>\n",
       "    </tr>\n",
       "    <tr>\n",
       "      <th>2</th>\n",
       "      <td>and</td>\n",
       "      <td>12997637966</td>\n",
       "    </tr>\n",
       "    <tr>\n",
       "      <th>3</th>\n",
       "      <td>to</td>\n",
       "      <td>12136980858</td>\n",
       "    </tr>\n",
       "    <tr>\n",
       "      <th>4</th>\n",
       "      <td>a</td>\n",
       "      <td>9081174698</td>\n",
       "    </tr>\n",
       "    <tr>\n",
       "      <th>5</th>\n",
       "      <td>in</td>\n",
       "      <td>8469404971</td>\n",
       "    </tr>\n",
       "    <tr>\n",
       "      <th>6</th>\n",
       "      <td>for</td>\n",
       "      <td>5933321709</td>\n",
       "    </tr>\n",
       "    <tr>\n",
       "      <th>7</th>\n",
       "      <td>is</td>\n",
       "      <td>4705743816</td>\n",
       "    </tr>\n",
       "    <tr>\n",
       "      <th>8</th>\n",
       "      <td>on</td>\n",
       "      <td>3750423199</td>\n",
       "    </tr>\n",
       "    <tr>\n",
       "      <th>9</th>\n",
       "      <td>that</td>\n",
       "      <td>3400031103</td>\n",
       "    </tr>\n",
       "  </tbody>\n",
       "</table>\n",
       "</div>"
      ],
      "text/plain": [
       "   word        count\n",
       "0   the  23135851162\n",
       "1    of  13151942776\n",
       "2   and  12997637966\n",
       "3    to  12136980858\n",
       "4     a   9081174698\n",
       "5    in   8469404971\n",
       "6   for   5933321709\n",
       "7    is   4705743816\n",
       "8    on   3750423199\n",
       "9  that   3400031103"
      ]
     },
     "execution_count": 28,
     "metadata": {},
     "output_type": "execute_result"
    }
   ],
   "source": [
    "df[:10]"
   ]
  },
  {
   "cell_type": "code",
   "execution_count": 48,
   "id": "8809f112-965e-4c27-9905-702651a67477",
   "metadata": {},
   "outputs": [],
   "source": [
    "# let's make index the rank\n",
    "df.reset_index(inplace=True)\n",
    "df.columns = ['rank', 'word', 'count']"
   ]
  },
  {
   "cell_type": "code",
   "execution_count": 92,
   "id": "8f6a89b2-70df-4ed6-802f-ba0f05c367e1",
   "metadata": {},
   "outputs": [],
   "source": [
    "# rank should start with 1 not zero\n",
    "df['rank'] = df['rank'] + 1"
   ]
  },
  {
   "cell_type": "code",
   "execution_count": 64,
   "id": "1eff739f-0758-42bc-ad11-e5104eb069db",
   "metadata": {},
   "outputs": [],
   "source": [
    "# portion of the count compared to all the counts\n",
    "df['portion'] = df['count'].div(df['count'].sum())"
   ]
  },
  {
   "cell_type": "code",
   "execution_count": 69,
   "id": "72820ec5-8252-4da3-a83e-7a4456fcb32e",
   "metadata": {},
   "outputs": [],
   "source": [
    "# cumulative sum of the portion\n",
    "df['portion_cumu'] = df['portion'].cumsum()"
   ]
  },
  {
   "cell_type": "code",
   "execution_count": 70,
   "id": "7cb02b53-4a3f-477d-b848-7efb9b3e8389",
   "metadata": {},
   "outputs": [
    {
     "data": {
      "text/html": [
       "<div>\n",
       "<style scoped>\n",
       "    .dataframe tbody tr th:only-of-type {\n",
       "        vertical-align: middle;\n",
       "    }\n",
       "\n",
       "    .dataframe tbody tr th {\n",
       "        vertical-align: top;\n",
       "    }\n",
       "\n",
       "    .dataframe thead th {\n",
       "        text-align: right;\n",
       "    }\n",
       "</style>\n",
       "<table border=\"1\" class=\"dataframe\">\n",
       "  <thead>\n",
       "    <tr style=\"text-align: right;\">\n",
       "      <th></th>\n",
       "      <th>rank</th>\n",
       "      <th>word</th>\n",
       "      <th>count</th>\n",
       "      <th>portion</th>\n",
       "      <th>portion_cumu</th>\n",
       "    </tr>\n",
       "  </thead>\n",
       "  <tbody>\n",
       "    <tr>\n",
       "      <th>0</th>\n",
       "      <td>0</td>\n",
       "      <td>the</td>\n",
       "      <td>23135851162</td>\n",
       "      <td>0.039338</td>\n",
       "      <td>0.039338</td>\n",
       "    </tr>\n",
       "    <tr>\n",
       "      <th>1</th>\n",
       "      <td>1</td>\n",
       "      <td>of</td>\n",
       "      <td>13151942776</td>\n",
       "      <td>0.022363</td>\n",
       "      <td>0.061701</td>\n",
       "    </tr>\n",
       "    <tr>\n",
       "      <th>2</th>\n",
       "      <td>2</td>\n",
       "      <td>and</td>\n",
       "      <td>12997637966</td>\n",
       "      <td>0.022100</td>\n",
       "      <td>0.083801</td>\n",
       "    </tr>\n",
       "    <tr>\n",
       "      <th>3</th>\n",
       "      <td>3</td>\n",
       "      <td>to</td>\n",
       "      <td>12136980858</td>\n",
       "      <td>0.020637</td>\n",
       "      <td>0.104438</td>\n",
       "    </tr>\n",
       "    <tr>\n",
       "      <th>4</th>\n",
       "      <td>4</td>\n",
       "      <td>a</td>\n",
       "      <td>9081174698</td>\n",
       "      <td>0.015441</td>\n",
       "      <td>0.119879</td>\n",
       "    </tr>\n",
       "    <tr>\n",
       "      <th>5</th>\n",
       "      <td>5</td>\n",
       "      <td>in</td>\n",
       "      <td>8469404971</td>\n",
       "      <td>0.014401</td>\n",
       "      <td>0.134279</td>\n",
       "    </tr>\n",
       "    <tr>\n",
       "      <th>6</th>\n",
       "      <td>6</td>\n",
       "      <td>for</td>\n",
       "      <td>5933321709</td>\n",
       "      <td>0.010089</td>\n",
       "      <td>0.144368</td>\n",
       "    </tr>\n",
       "    <tr>\n",
       "      <th>7</th>\n",
       "      <td>7</td>\n",
       "      <td>is</td>\n",
       "      <td>4705743816</td>\n",
       "      <td>0.008001</td>\n",
       "      <td>0.152369</td>\n",
       "    </tr>\n",
       "    <tr>\n",
       "      <th>8</th>\n",
       "      <td>8</td>\n",
       "      <td>on</td>\n",
       "      <td>3750423199</td>\n",
       "      <td>0.006377</td>\n",
       "      <td>0.158746</td>\n",
       "    </tr>\n",
       "    <tr>\n",
       "      <th>9</th>\n",
       "      <td>9</td>\n",
       "      <td>that</td>\n",
       "      <td>3400031103</td>\n",
       "      <td>0.005781</td>\n",
       "      <td>0.164527</td>\n",
       "    </tr>\n",
       "  </tbody>\n",
       "</table>\n",
       "</div>"
      ],
      "text/plain": [
       "   rank  word        count   portion  portion_cumu\n",
       "0     0   the  23135851162  0.039338      0.039338\n",
       "1     1    of  13151942776  0.022363      0.061701\n",
       "2     2   and  12997637966  0.022100      0.083801\n",
       "3     3    to  12136980858  0.020637      0.104438\n",
       "4     4     a   9081174698  0.015441      0.119879\n",
       "5     5    in   8469404971  0.014401      0.134279\n",
       "6     6   for   5933321709  0.010089      0.144368\n",
       "7     7    is   4705743816  0.008001      0.152369\n",
       "8     8    on   3750423199  0.006377      0.158746\n",
       "9     9  that   3400031103  0.005781      0.164527"
      ]
     },
     "execution_count": 70,
     "metadata": {},
     "output_type": "execute_result"
    }
   ],
   "source": [
    "df[:10]"
   ]
  },
  {
   "cell_type": "code",
   "execution_count": 93,
   "id": "46868814-d2fe-4650-a593-148e29db71cb",
   "metadata": {},
   "outputs": [
    {
     "data": {
      "text/html": [
       "<div>\n",
       "<style scoped>\n",
       "    .dataframe tbody tr th:only-of-type {\n",
       "        vertical-align: middle;\n",
       "    }\n",
       "\n",
       "    .dataframe tbody tr th {\n",
       "        vertical-align: top;\n",
       "    }\n",
       "\n",
       "    .dataframe thead th {\n",
       "        text-align: right;\n",
       "    }\n",
       "</style>\n",
       "<table border=\"1\" class=\"dataframe\">\n",
       "  <thead>\n",
       "    <tr style=\"text-align: right;\">\n",
       "      <th></th>\n",
       "      <th>rank</th>\n",
       "      <th>word</th>\n",
       "      <th>count</th>\n",
       "      <th>portion</th>\n",
       "      <th>portion_cumu</th>\n",
       "    </tr>\n",
       "  </thead>\n",
       "  <tbody>\n",
       "    <tr>\n",
       "      <th>1759</th>\n",
       "      <td>1760</td>\n",
       "      <td>cat</td>\n",
       "      <td>46839855</td>\n",
       "      <td>0.00008</td>\n",
       "      <td>0.681153</td>\n",
       "    </tr>\n",
       "  </tbody>\n",
       "</table>\n",
       "</div>"
      ],
      "text/plain": [
       "      rank word     count  portion  portion_cumu\n",
       "1759  1760  cat  46839855  0.00008      0.681153"
      ]
     },
     "execution_count": 93,
     "metadata": {},
     "output_type": "execute_result"
    }
   ],
   "source": [
    "# You can search for a word\n",
    "df[ df[\"word\"] == \"cat\" ]"
   ]
  },
  {
   "cell_type": "code",
   "execution_count": 91,
   "id": "7232d694-cfe5-4025-96b2-f8f4c19c4754",
   "metadata": {},
   "outputs": [
    {
     "data": {
      "text/html": [
       "<div>\n",
       "<style scoped>\n",
       "    .dataframe tbody tr th:only-of-type {\n",
       "        vertical-align: middle;\n",
       "    }\n",
       "\n",
       "    .dataframe tbody tr th {\n",
       "        vertical-align: top;\n",
       "    }\n",
       "\n",
       "    .dataframe thead th {\n",
       "        text-align: right;\n",
       "    }\n",
       "</style>\n",
       "<table border=\"1\" class=\"dataframe\">\n",
       "  <thead>\n",
       "    <tr style=\"text-align: right;\">\n",
       "      <th></th>\n",
       "      <th>rank</th>\n",
       "      <th>word</th>\n",
       "      <th>count</th>\n",
       "      <th>portion</th>\n",
       "      <th>portion_cumu</th>\n",
       "    </tr>\n",
       "  </thead>\n",
       "  <tbody>\n",
       "    <tr>\n",
       "      <th>196</th>\n",
       "      <td>196</td>\n",
       "      <td>map</td>\n",
       "      <td>309676581</td>\n",
       "      <td>0.000527</td>\n",
       "      <td>0.399059</td>\n",
       "    </tr>\n",
       "    <tr>\n",
       "      <th>197</th>\n",
       "      <td>197</td>\n",
       "      <td>reviews</td>\n",
       "      <td>307684103</td>\n",
       "      <td>0.000523</td>\n",
       "      <td>0.399582</td>\n",
       "    </tr>\n",
       "    <tr>\n",
       "      <th>198</th>\n",
       "      <td>198</td>\n",
       "      <td>program</td>\n",
       "      <td>306686983</td>\n",
       "      <td>0.000521</td>\n",
       "      <td>0.400104</td>\n",
       "    </tr>\n",
       "    <tr>\n",
       "      <th>199</th>\n",
       "      <td>199</td>\n",
       "      <td>life</td>\n",
       "      <td>306559205</td>\n",
       "      <td>0.000521</td>\n",
       "      <td>0.400625</td>\n",
       "    </tr>\n",
       "  </tbody>\n",
       "</table>\n",
       "</div>"
      ],
      "text/plain": [
       "     rank     word      count   portion  portion_cumu\n",
       "196   196      map  309676581  0.000527      0.399059\n",
       "197   197  reviews  307684103  0.000523      0.399582\n",
       "198   198  program  306686983  0.000521      0.400104\n",
       "199   199     life  306559205  0.000521      0.400625"
      ]
     },
     "execution_count": 91,
     "metadata": {},
     "output_type": "execute_result"
    }
   ],
   "source": [
    "percentile = 0.40\n",
    "epsilon = 1e-3\n",
    "df[ \n",
    "    (df['portion_cumu'] >= percentile-epsilon) & \n",
    "    (df['portion_cumu'] <= percentile+epsilon) \n",
    "]"
   ]
  },
  {
   "cell_type": "markdown",
   "id": "b86ca925-6f53-4188-8989-053f3b12e6ec",
   "metadata": {},
   "source": [
    "## Plot the distribution"
   ]
  },
  {
   "cell_type": "code",
   "execution_count": 61,
   "id": "c6f7e7ab-6fa6-453d-b672-e6fc3bcaab08",
   "metadata": {},
   "outputs": [],
   "source": [
    "import seaborn as sn"
   ]
  },
  {
   "cell_type": "code",
   "execution_count": 63,
   "id": "126f96ba-a16f-43ee-be4b-ceaa45205bca",
   "metadata": {},
   "outputs": [
    {
     "data": {
      "text/plain": [
       "[None]"
      ]
     },
     "execution_count": 63,
     "metadata": {},
     "output_type": "execute_result"
    },
    {
     "data": {
      "image/png": "[encoded data removed]",
      "text/plain": [
       "<Figure size 640x480 with 1 Axes>"
      ]
     },
     "metadata": {},
     "output_type": "display_data"
    }
   ],
   "source": [
    "g = sn.lineplot(df[::-100], x='rank', y='count')\n",
    "g.set(yscale='log')"
   ]
  },
  {
   "cell_type": "code",
   "execution_count": 102,
   "id": "f6a55659-a641-4f42-9aef-a26443f0527e",
   "metadata": {},
   "outputs": [
    {
     "data": {
      "image/png": "[encoded data removed]",
      "text/plain": [
       "<Figure size 640x480 with 1 Axes>"
      ]
     },
     "metadata": {},
     "output_type": "display_data"
    }
   ],
   "source": [
    "g = sn.lineplot(df[:10000][::200], x='word', y='count')\n",
    "g.set(yscale='log')\n",
    "g.tick_params(axis='x', rotation=90)"
   ]
  },
  {
   "cell_type": "markdown",
   "id": "b248dc0d-1171-4acc-b92b-43ba18446974",
   "metadata": {},
   "source": [
    "## Who wins - Insights from simple word counts"
   ]
  },
  {
   "cell_type": "code",
   "execution_count": 52,
   "id": "10e6909c-b1e6-47b8-b701-cbd79192e08c",
   "metadata": {},
   "outputs": [],
   "source": [
    "def who_wins(w1, w2):\n",
    "    count_w1 = df[ df['word']==w1 ].iloc[0][\"count\"]\n",
    "    count_w2 = df[ df['word']==w2 ].iloc[0][\"count\"]\n",
    "    rank_w1 = df[ df['word']==w1 ].iloc[0][\"rank\"]\n",
    "    rank_w2 = df[ df['word']==w2 ].iloc[0][\"rank\"]\n",
    "\n",
    "    if count_w1 < count_w2:\n",
    "        w1, w2 = w2, w1\n",
    "        count_w1, count_w2 = count_w2, count_w1\n",
    "        rank_w1, rank_w2 = rank_w2, rank_w1\n",
    "\n",
    "    print(f'\"{w1}\" rank#{rank_w1} (count={count_w1}) wins over \"{w2}\" rank#{rank_w2} (count={count_w2})')"
   ]
  },
  {
   "cell_type": "code",
   "execution_count": 53,
   "id": "b1f76222-ead4-4a1f-b0f8-00f8a7c26076",
   "metadata": {},
   "outputs": [
    {
     "name": "stdout",
     "output_type": "stream",
     "text": [
      "\"mom\" rank#2678 (count=29736214) wins over \"dad\" rank#4523 (count=15136055)\n"
     ]
    }
   ],
   "source": [
    "who_wins(\"dad\", \"mom\")"
   ]
  },
  {
   "cell_type": "code",
   "execution_count": 54,
   "id": "ac89fa3f-999d-48ce-9e13-2d712e3bb0b8",
   "metadata": {},
   "outputs": [
    {
     "name": "stdout",
     "output_type": "stream",
     "text": [
      "\"cat\" rank#1759 (count=46839855) wins over \"mom\" rank#2678 (count=29736214)\n"
     ]
    }
   ],
   "source": [
    "who_wins(\"cat\", \"mom\")"
   ]
  },
  {
   "cell_type": "code",
   "execution_count": 55,
   "id": "1f93d870-9f44-492d-a5ea-adebc340ec84",
   "metadata": {},
   "outputs": [
    {
     "name": "stdout",
     "output_type": "stream",
     "text": [
      "\"money\" rank#390 (count=190205072) wins over \"happy\" rank#1279 (count=63471922)\n"
     ]
    }
   ],
   "source": [
    "who_wins(\"money\", \"happy\")"
   ]
  },
  {
   "cell_type": "code",
   "execution_count": 56,
   "id": "89f12fba-5555-4c1a-be3a-ccfa9fe67aa9",
   "metadata": {},
   "outputs": [
    {
     "name": "stdout",
     "output_type": "stream",
     "text": [
      "\"money\" rank#390 (count=190205072) wins over \"happiness\" rank#7321 (count=7976747)\n"
     ]
    }
   ],
   "source": [
    "who_wins(\"money\", \"happiness\")"
   ]
  },
  {
   "cell_type": "code",
   "execution_count": 57,
   "id": "12439efd-0702-4189-95b9-206ff77aa7af",
   "metadata": {},
   "outputs": [
    {
     "name": "stdout",
     "output_type": "stream",
     "text": [
      "\"love\" rank#369 (count=201063526) wins over \"money\" rank#390 (count=190205072)\n"
     ]
    }
   ],
   "source": [
    "who_wins(\"money\", \"love\")"
   ]
  },
  {
   "cell_type": "code",
   "execution_count": 58,
   "id": "c7283445-04b2-42a1-871d-61616d1c38e2",
   "metadata": {},
   "outputs": [
    {
     "name": "stdout",
     "output_type": "stream",
     "text": [
      "\"education\" rank#241 (count=266738068) wins over \"money\" rank#390 (count=190205072)\n"
     ]
    }
   ],
   "source": [
    "who_wins(\"money\", \"education\")"
   ]
  },
  {
   "cell_type": "code",
   "execution_count": null,
   "id": "9037fb79-56d9-4320-a374-d68077d2a7bb",
   "metadata": {},
   "outputs": [],
   "source": []
  }
 ],
 "metadata": {
  "kernelspec": {
   "display_name": "Python 3 (ipykernel)",
   "language": "python",
   "name": "python3"
  },
  "language_info": {
   "codemirror_mode": {
    "name": "ipython",
    "version": 3
   },
   "file_extension": ".py",
   "mimetype": "text/x-python",
   "name": "python",
   "nbconvert_exporter": "python",
   "pygments_lexer": "ipython3",
   "version": "3.10.8"
  }
 },
 "nbformat": 4,
 "nbformat_minor": 5
}
